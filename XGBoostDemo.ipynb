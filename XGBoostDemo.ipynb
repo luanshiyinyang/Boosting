{
  "nbformat": 4,
  "nbformat_minor": 0,
  "metadata": {
    "colab": {
      "name": "XGBoostDemo.ipynb",
      "version": "0.3.2",
      "provenance": [],
      "collapsed_sections": []
    },
    "kernelspec": {
      "name": "python3",
      "display_name": "Python 3"
    }
  },
  "cells": [
    {
      "metadata": {
        "id": "ip0d5qVkiBgh",
        "colab_type": "code",
        "colab": {}
      },
      "cell_type": "code",
      "source": [
        "# 导入数据\n",
        "from sklearn.datasets import load_boston\n",
        "data = load_boston()\n",
        "x, y = data['data'], data['target']"
      ],
      "execution_count": 0,
      "outputs": []
    },
    {
      "metadata": {
        "id": "XWsSLSmc14DL",
        "colab_type": "code",
        "colab": {}
      },
      "cell_type": "code",
      "source": [
        "# 导入常用模型包\n",
        "from sklearn.linear_model import LinearRegression, Ridge\n",
        "from sklearn.tree import DecisionTreeRegressor\n",
        "from sklearn.model_selection import train_test_split, GridSearchCV\n",
        "from sklearn.ensemble import RandomForestRegressor\n",
        "from sklearn.metrics import mean_squared_error\n",
        "import xgboost as xgb"
      ],
      "execution_count": 0,
      "outputs": []
    },
    {
      "metadata": {
        "id": "VYLEksP74OgI",
        "colab_type": "code",
        "colab": {}
      },
      "cell_type": "code",
      "source": [
        "# 划分数据集\n",
        "x_train, x_valid, y_train, y_valid = train_test_split(x, y, test_size=0.2, random_state=2019)"
      ],
      "execution_count": 0,
      "outputs": []
    },
    {
      "metadata": {
        "id": "RK5UQ6RT21Qb",
        "colab_type": "code",
        "colab": {}
      },
      "cell_type": "code",
      "source": [
        "# 创建xgb矩阵\n",
        "d_x = xgb.DMatrix(x_train)\n",
        "d_y = xgb.DMatrix(y_train.reshape(-1, 1))"
      ],
      "execution_count": 0,
      "outputs": []
    },
    {
      "metadata": {
        "id": "Rrd4zuMr3kqP",
        "colab_type": "code",
        "colab": {}
      },
      "cell_type": "code",
      "source": [
        ""
      ],
      "execution_count": 0,
      "outputs": []
    },
    {
      "metadata": {
        "id": "w1vRK_Di34Cw",
        "colab_type": "code",
        "colab": {
          "base_uri": "https://localhost:8080/",
          "height": 106
        },
        "outputId": "4f3fada0-6902-4b50-eb44-55b094d369d5"
      },
      "cell_type": "code",
      "source": [
        "# 构建几个回归模型\n",
        "lr = LinearRegression()\n",
        "ridge = Ridge()\n",
        "dtr = DecisionTreeRegressor()\n",
        "rfr = RandomForestRegressor(n_estimators=100)\n",
        "\n",
        "xgbr = xgb.XGBRegressor()\n",
        "# 不调参看一下效果\n",
        "lr.fit(x_train, y_train)\n",
        "pred = lr.predict(x_valid)\n",
        "print(\"MSE:{} in LR\".format(mean_squared_error(y_valid, pred)))\n",
        "\n",
        "ridge.fit(x_train, y_train)\n",
        "pred = ridge.predict(x_valid)\n",
        "print(\"MSE:{} in Ridge\".format(mean_squared_error(y_valid, pred)))\n",
        "\n",
        "dtr.fit(x_train, y_train)\n",
        "pred = dtr.predict(x_valid)\n",
        "print(\"MSE:{} in DTR\".format(mean_squared_error(y_valid, pred)))\n",
        "\n",
        "rfr.fit(x_train, y_train)\n",
        "pred = rfr.predict(x_valid)\n",
        "print(\"MSE:{} in RFR\".format(mean_squared_error(y_valid, pred)))\n",
        "\n",
        "xgbr.fit(x_train, y_train)\n",
        "pred = xgbr.predict(x_valid)\n",
        "print(\"MSE:{} in XGBR\".format(mean_squared_error(y_valid, pred)))"
      ],
      "execution_count": 24,
      "outputs": [
        {
          "output_type": "stream",
          "text": [
            "MSE:26.202748180423672 in LR\n",
            "MSE:26.779801430066296 in Ridge\n",
            "MSE:21.141470588235308 in DTR\n",
            "MSE:13.922911254901953 in RFR\n",
            "MSE:13.184715539021276 in XGBR\n"
          ],
          "name": "stdout"
        }
      ]
    },
    {
      "metadata": {
        "id": "HHmLraOD70IW",
        "colab_type": "code",
        "colab": {
          "base_uri": "https://localhost:8080/",
          "height": 106
        },
        "outputId": "c54f4b5f-f776-4a04-8692-b8119a33962b"
      },
      "cell_type": "code",
      "source": [
        "# 需要调整的参数\n",
        "# cv_params = {'learning_rate': [0.01, 0.05, 0.07, 0.1, 0.2]}\n",
        "# 不调整的参数\n",
        "other_params = {'n_estimators': 500, 'seed': 0, 'n_estimators': 600, 'max_depth': 4, 'min_child_weight' :1, 'gamma': 0.2, 'subsample': 0.8, 'colsample_bytree': 0.9, 'reg_alpha':0.1, 'reg_lambda':0.05, 'learning_rate':0.1,}\n",
        "xgbr = xgb.XGBRegressor(**other_params)\n",
        "grid = GridSearchCV(estimator=xgbr, param_grid=cv_params, scoring='r2', cv=5, verbose=1, n_jobs=8)\n",
        "grid.fit(x_train, y_train)\n",
        "# print('每轮迭代运行结果:{0}'.format(grid.cv_results_))\n",
        "print('参数的最佳取值：{0}'.format(grid.best_params_))\n",
        "print('最佳模型得分:{0}'.format(grid.best_score_))"
      ],
      "execution_count": 38,
      "outputs": [
        {
          "output_type": "stream",
          "text": [
            "Fitting 5 folds for each of 5 candidates, totalling 25 fits\n"
          ],
          "name": "stdout"
        },
        {
          "output_type": "stream",
          "text": [
            "[Parallel(n_jobs=8)]: Using backend LokyBackend with 8 concurrent workers.\n",
            "[Parallel(n_jobs=8)]: Done  25 out of  25 | elapsed:    4.7s finished\n"
          ],
          "name": "stderr"
        },
        {
          "output_type": "stream",
          "text": [
            "参数的最佳取值：{'learning_rate': 0.1}\n",
            "最佳模型得分:0.9086713978467437\n"
          ],
          "name": "stdout"
        }
      ]
    },
    {
      "metadata": {
        "id": "O8r9r1vC_VgW",
        "colab_type": "code",
        "colab": {
          "base_uri": "https://localhost:8080/",
          "height": 35
        },
        "outputId": "2f062edd-7782-469e-be3b-a8012c818c6c"
      },
      "cell_type": "code",
      "source": [
        "# 现在使用新的参数构建模型进行预测计算损失\n",
        "params = {'n_estimators': 10, 'seed': 0, 'n_estimators': 600, 'max_depth': 6, 'min_child_weight' :1, 'gamma': 0.2, 'subsample': 0.8, 'colsample_bytree': 0.9, 'reg_alpha':0.1, 'reg_lambda':0.05, 'learning_rate':0.01}\n",
        "model = xgb.XGBRegressor(params=params, booster='dart')\n",
        "model.fit(x_train, y_train)\n",
        "pred = model.predict(x_valid)\n",
        "print(\"MSE:{}\".format(mean_squared_error(y_valid, pred)))"
      ],
      "execution_count": 58,
      "outputs": [
        {
          "output_type": "stream",
          "text": [
            "MSE:13.184715392998996\n"
          ],
          "name": "stdout"
        }
      ]
    }
  ]
}